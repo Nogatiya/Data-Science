{
 "cells": [
  {
   "cell_type": "markdown",
   "id": "0cea4f09-6562-4ba5-9044-7feb46aad4c5",
   "metadata": {},
   "source": [
    "# פרויקט חיזוי תאונות דרכים בישראל\n",
    "\n",
    "פרויקט זה נועד לפתח כלי אנליטי מבוסס למידת מכונה לזיהוי וחיזוי מוקדי סיכון לתאונות דרכים ברחבי ישראל. מטרת הפרויקט היא לסייע לרשות הלאומית לבטיחות בדרכים (רלב\"ד) בקבלת החלטות מבוססות-נתונים לצורך הפחתת מספר התאונות והצלת חיים.  \n",
    "הפרויקט עושה שימוש במידע רב שנתי (2018–2023) הכולל נתוני תאונות דרכים ממקורות ממשלתיים.\n",
    "\n",
    "במהלך העבודה נבנו שלושה מודלים מרכזיים:\n",
    "- חיזוי חומרת התאונה לפי תנאים סביבתיים, תשתיות, ותנאי כביש.\n",
    "- חיזוי אזורים בעלי סיכון מוגבר להתרחשות תאונות.\n",
    "- חיזוי זמן (חודש בשנה) שבו הסיכון לתאונה גבוה."
   ]
  },
  {
   "cell_type": "code",
   "execution_count": 1,
   "id": "6bae7b5b-e093-4586-a2eb-49943cbac9ed",
   "metadata": {},
   "outputs": [
    {
     "name": "stdout",
     "output_type": "stream",
     "text": [
      "   pk_teuna_fikt  sug_tik  THUM_GEOGRAFI  SUG_DEREH  SEMEL_YISHUV  REHOV1  \\\n",
      "0     2018000004        1              1          1           841   104.0   \n",
      "1     2018000018        1              1          1          4000   896.0   \n",
      "2     2018000030        1              1          1          7100  1035.0   \n",
      "3     2018000037        1              1          4             0     NaN   \n",
      "4     2018000049        1              1          3             0     NaN   \n",
      "\n",
      "   REHOV2  BAYIT  ZOMET_IRONI  KVISH1  ...  MEKOM_HAZIYA  KIVUN_HAZIYA  MAHOZ  \\\n",
      "0   105.0    NaN          2.0     NaN  ...             0             9      4   \n",
      "1   825.0    NaN   10210522.0     NaN  ...             0             9      3   \n",
      "2   496.0    NaN   10800341.0     NaN  ...             0             9      6   \n",
      "3     NaN    NaN          NaN    91.0  ...             0             9      2   \n",
      "4     NaN    NaN          NaN     4.0  ...             0             9      3   \n",
      "\n",
      "   NAFA  EZOR_TIVI  MAAMAD_MINIZIPALI  ZURAT_ISHUV  STATUS_IGUN         X  \\\n",
      "0    42        421               20.0         31.0            1  193498.0   \n",
      "1    31        311                0.0         13.0            1  200041.0   \n",
      "2    61        614                0.0         14.0            1  161755.0   \n",
      "3    21        213               99.0         99.0            1  258983.0   \n",
      "4    31        311               99.0         99.0            1  202102.0   \n",
      "\n",
      "          Y  \n",
      "0  673585.0  \n",
      "1  746160.0  \n",
      "2  620861.0  \n",
      "3  768323.0  \n",
      "4  744840.0  \n",
      "\n",
      "[5 rows x 45 columns]\n"
     ]
    }
   ],
   "source": [
    "import pandas as pd\n",
    "\n",
    "# קריאה של קובץ CSV\n",
    "data = pd.read_csv(\"All_data_csv.csv\")\n",
    "\n",
    "# הצגת 5 השורות הראשונות כדי לבדוק את הנתונים\n",
    "print(data.head())\n"
   ]
  },
  {
   "cell_type": "markdown",
   "id": "d2a1e1f6-7101-46ed-b2a9-7071a43ad869",
   "metadata": {},
   "source": [
    "### מודל מס' 1 – Random Forest: חיזוי חומרת תאונה\n",
    "\n",
    "מודל זה נבנה במטרה לחזות את **חומרת התאונה** (קל, בינוני, קשה, קטלני) בהתבסס על מאפייני הדרך, הזמן והתנאים בעת התאונה.  \n",
    "המודל עושה שימוש באלגוריתם **Random Forest Classifier**, המתבסס על עצי החלטה לצורך שיפור הדיוק והפחתת הטיה.  \n",
    "\n",
    "המודל נועד לשמש ככלי תומך החלטה לזיהוי מוקדים בעייתיים ולשיפור מנגנוני המניעה של תאונות דרכים חמורות.\n"
   ]
  },
  {
   "cell_type": "code",
   "execution_count": 9,
   "id": "940978d1-4084-4061-a8e4-ade8f19c7c94",
   "metadata": {},
   "outputs": [
    {
     "data": {
      "text/plain": [
       "RandomForestClassifier(class_weight='balanced', random_state=42)"
      ]
     },
     "execution_count": 9,
     "metadata": {},
     "output_type": "execute_result"
    }
   ],
   "source": [
    "import pandas as pd\n",
    "from sklearn.model_selection import train_test_split\n",
    "from sklearn.ensemble import RandomForestClassifier\n",
    "from sklearn.metrics import accuracy_score, classification_report\n",
    "from imblearn.over_sampling import SMOTE\n",
    "from sklearn.impute import SimpleImputer\n",
    "from sklearn.preprocessing import StandardScaler\n",
    "\n",
    "# טוען את הנתונים\n",
    "file_path = 'All_data_csv.csv'\n",
    "df = pd.read_csv(file_path)\n",
    "# בחירת משתנים (אותם משתנים כמו בלוגיסטית)\n",
    "features = [\"SUG_DEREH\", \"YOM_LAYLA\", \"MEHIRUT_MUTERET\", \"TEURA\", \"MEZEG_AVIR\", \"PNE_KVISH\", \"SUG_TEUNA\"]\n",
    "target = \"HUMRAT_TEUNA\"\n",
    "\n",
    "# הסרת רשומות עם ערכים חסרים\n",
    "df = df.dropna(subset=features + [target])\n",
    "\n",
    "# הפרדת נתונים\n",
    "X = df[features]\n",
    "y = (df[target] > 1).astype(int)  # הפיכת חומרת התאונה לקטגורית: 1 = חמורה, 0 = לא חמורה\n",
    "\n",
    "# חלוקה לסט אימון וסט בדיקה\n",
    "X_train, X_test, y_train, y_test = train_test_split(X, y, test_size=0.2, random_state=42)\n",
    "# איזון הנתונים עם SMOTE\n",
    "smote = SMOTE(random_state=42)\n",
    "X_train, y_train = smote.fit_resample(X_train, y_train)\n",
    "# בניית המודל והגדרת מספר העצים\n",
    "model = RandomForestClassifier(n_estimators=100, random_state=42, class_weight='balanced')\n",
    "model.fit(X_train, y_train)\n"
   ]
  },
  {
   "cell_type": "code",
   "execution_count": 10,
   "id": "2cd03cd3-9cd3-43e0-9ca6-2e1b30ab9775",
   "metadata": {},
   "outputs": [
    {
     "name": "stdout",
     "output_type": "stream",
     "text": [
      "Classification Report:\n",
      "               precision    recall  f1-score   support\n",
      "\n",
      "           0       0.05      0.58      0.09       363\n",
      "           1       0.98      0.70      0.82     13016\n",
      "\n",
      "    accuracy                           0.70     13379\n",
      "   macro avg       0.52      0.64      0.46     13379\n",
      "weighted avg       0.96      0.70      0.80     13379\n",
      "\n",
      "          Variable  Importance\n",
      "6        SUG_TEUNA    0.350514\n",
      "0        SUG_DEREH    0.219234\n",
      "2  MEHIRUT_MUTERET    0.185306\n",
      "3            TEURA    0.089186\n",
      "5        PNE_KVISH    0.081291\n",
      "4       MEZEG_AVIR    0.048844\n",
      "1        YOM_LAYLA    0.025624\n"
     ]
    },
    {
     "data": {
      "image/png": "[encoded data removed]",
      "text/plain": [
       "<Figure size 720x360 with 1 Axes>"
      ]
     },
     "metadata": {
      "needs_background": "light"
     },
     "output_type": "display_data"
    },
    {
     "name": "stdout",
     "output_type": "stream",
     "text": [
      "החיזוי עבור התאונה החדשה: חמורה\n",
      "ההסתברות שהתאונה חמורה: 0.88775\n"
     ]
    }
   ],
   "source": [
    "print(\"Classification Report:\\n\", classification_report(y_test, y_pred))\n",
    "# חשיבות המשתנים במודל\n",
    "import matplotlib.pyplot as plt\n",
    "importances = model.feature_importances_\n",
    "feature_names = X.columns\n",
    "\n",
    "# יצירת DataFrame להצגת התוצאות\n",
    "feature_importance_df = pd.DataFrame({'Variable': feature_names, 'Importance': importances})\n",
    "feature_importance_df = feature_importance_df.sort_values(by='Importance', ascending=False)\n",
    "\n",
    "# הדפסת החשיבות של כל משתנה\n",
    "print(feature_importance_df)\n",
    "# יצירת גרף\n",
    "plt.figure(figsize=(10, 5))\n",
    "plt.barh(feature_importance_df['Variable'], feature_importance_df['Importance'], color='skyblue')\n",
    "plt.xlabel('חשיבות המשתנה')\n",
    "plt.ylabel('משתנה')\n",
    "plt.title('חשיבות המשתנים בחיזוי חומרת התאונה')\n",
    "plt.gca().invert_yaxis()  # הופך את הגרף כדי שהערך הגבוה ביותר יהיה למעלה\n",
    "plt.show()\n",
    "\n",
    "#הרצת המודל:\n",
    "new_data = {\n",
    "    \"SUG_DEREH\": [1],  # סוג דרך (למשל, עירוני)\n",
    "    \"YOM_LAYLA\": [0],  # תאורה (למשל, יום)\n",
    "    \"MEHIRUT_MUTERET\": [50],  # מהירות מותרת (למשל, 50 קמ\"ש)\n",
    "    \"TEURA\": [1],  # תאורה (למשל, מואר)\n",
    "    \"MEZEG_AVIR\": [0],  # מזג אוויר (למשל, בהיר)\n",
    "    \"PNE_KVISH\": [2],  # פנייה (למשל, פנייה חדה)\n",
    "    \"SUG_TEUNA\": [0]  # סוג תאונה (למשל, התנגשות חזיתית)\n",
    "}\n",
    "new_df = pd.DataFrame(new_data)\n",
    "\n",
    "# ניבוי עם המודל של רנדום פורסט\n",
    "new_prediction = model.predict(new_df)\n",
    "new_prediction_proba = model.predict_proba(new_df)[:, 1]  \n",
    "\n",
    "print(\"החיזוי עבור התאונה החדשה:\", \"חמורה\" if new_prediction[0] == 1 else \"לא חמורה\")\n",
    "print(\"ההסתברות שהתאונה חמורה:\", new_prediction_proba[0])\n"
   ]
  },
  {
   "cell_type": "markdown",
   "id": "d9ff2bb5-347d-45ad-b76a-a520d28e4703",
   "metadata": {},
   "source": [
    "### מודל מס' 2 – Random Forest: חיזוי אזורים מסוכנים\n",
    "\n",
    "מודל זה נועד לזהות **אזורים גאוגרפיים בעלי סיכון גבוה לתאונות דרכים**, על בסיס נתוני תאונות קודמות, תנאי סביבה, זמן ומאפייני הדרך.  \n",
    "המודל עושה שימוש באלגוריתם **Random Forest Classifier** לצורך סיווג האזור (YEHIDA) לרמת סיכון בהתאם למאפייני התאונה, מתוך מטרה לסייע בקבלת החלטות תשתיתיות ואכיפתיות ולצמצום תאונות עתידיות.\n"
   ]
  },
  {
   "cell_type": "code",
   "execution_count": 11,
   "id": "cef3673d-2934-48fa-b844-31101e6d9175",
   "metadata": {},
   "outputs": [
    {
     "name": "stdout",
     "output_type": "stream",
     "text": [
      "Accuracy: 0.7635099783242395\n",
      "Classification Report:\n",
      "               precision    recall  f1-score   support\n",
      "\n",
      "           0       0.76      0.72      0.74      6156\n",
      "           1       0.77      0.80      0.79      7223\n",
      "\n",
      "    accuracy                           0.76     13379\n",
      "   macro avg       0.76      0.76      0.76     13379\n",
      "weighted avg       0.76      0.76      0.76     13379\n",
      "\n",
      "SUG_DEREH: 0.13195569226988016\n",
      "MEHIRUT_MUTERET: 0.04677377914117984\n",
      "PNE_KVISH: 0.013405280587124835\n",
      "TEURA: 0.03383469205850256\n",
      "MEZEG_AVIR: 0.01216334532676437\n",
      "SUG_TEUNA: 0.08581831384626559\n",
      "X: 0.3369513165036036\n",
      "Y: 0.339097580266679\n",
      "חיזוי עבור הדגימה החדשה: [0]\n"
     ]
    }
   ],
   "source": [
    "\n",
    "\n",
    "# נניח שאם יש יותר מ-2 תאונות באזור, אנחנו מסווגים אותו כ\"אזור מסוכן\"\n",
    "df['SOGEN'] = (df.groupby(['X', 'Y'])['HUMRAT_TEUNA'].transform('count') > 2).astype(int)\n",
    "\n",
    "# בחירת משתנים\n",
    "features = [\"SUG_DEREH\", \"MEHIRUT_MUTERET\", \"PNE_KVISH\", \"TEURA\", \"MEZEG_AVIR\", \"SUG_TEUNA\", \"X\", \"Y\"]\n",
    "target = 'SOGEN'\n",
    "\n",
    "# טפל בערכים חסרים\n",
    "imputer = SimpleImputer(strategy='mean')\n",
    "df[features] = imputer.fit_transform(df[features])\n",
    "\n",
    "# הפרדת נתונים\n",
    "X = df[features]\n",
    "y = df[target]\n",
    "\n",
    "# חלוקה לסט אימון וסט בדיקה\n",
    "X_train, X_test, y_train, y_test = train_test_split(X, y, test_size=0.2, random_state=42)\n",
    "\n",
    "# איזון הנתונים באמצעות SMOTE\n",
    "smote = SMOTE(random_state=42)\n",
    "X_train, y_train = smote.fit_resample(X_train, y_train)\n",
    "\n",
    "# נרמול הנתונים\n",
    "scaler = StandardScaler()\n",
    "X_train = scaler.fit_transform(X_train)\n",
    "X_test = scaler.transform(X_test)\n",
    "\n",
    "# בניית המודל עם רנדום פורסט\n",
    "model = RandomForestClassifier(n_estimators=100, random_state=42)\n",
    "model.fit(X_train, y_train)\n",
    "\n",
    "# ניבוי וניתוח תוצאות\n",
    "y_pred = model.predict(X_test)\n",
    "print(\"Accuracy:\", accuracy_score(y_test, y_pred))\n",
    "print(\"Classification Report:\\n\", classification_report(y_test, y_pred))\n",
    "\n",
    "# הצגת המשתנים החשובים\n",
    "feature_importance = model.feature_importances_\n",
    "for feature, importance in zip(features, feature_importance):\n",
    "    print(f\"{feature}: {importance}\")\n",
    "\n",
    "# לנקות רווחים מיותרים בכל העמודות\n",
    "df.columns = df.columns.str.strip()\n",
    "# ואז תוכל להריץ את הקוד שלך שוב\n",
    "features_with_weather_time = features + [\"MEZEG_AVIR\", \"SHAA\"]\n",
    "\n",
    "#הרצת המודל:\n",
    "# חיזוי עבור דגימה חדשה \n",
    "import numpy as np\n",
    "new_data = pd.DataFrame({\n",
    "    'SUG_DEREH': [1],  \n",
    "    'MEHIRUT_MUTERET': [0],  \n",
    "    'PNE_KVISH': [1],  \n",
    "    'TEURA': [0],  \n",
    "    'MEZEG_AVIR': [0],  \n",
    "    'SUG_TEUNA': [0],  \n",
    "    'X': [250000],  \n",
    "    'Y': [670000]   \n",
    "})\n",
    "\n",
    "# נרמל את הנתונים בצורה תואמת לפני החיזוי\n",
    "new_data_scaled = scaler.transform(new_data)\n",
    "# חיזוי עבור הדגימה\n",
    "prediction = model.predict(new_data_scaled)\n",
    "# הצגת החיזוי\n",
    "print(\"חיזוי עבור הדגימה החדשה:\", prediction)\n",
    "\n"
   ]
  },
  {
   "cell_type": "markdown",
   "id": "f321ac82-1800-43d5-972b-c9ab88e29142",
   "metadata": {},
   "source": [
    "### מודל מס' 3 – Prophet: ניתוח וחיזוי סדרות זמן של תאונות דרכים\n",
    "\n",
    "מודל זה מבוסס על אלגוריתם **Prophet** שפותח על ידי Facebook, ומשמש לניתוח וחיזוי של **סדרות זמן**.  \n",
    "בפרויקט זה נעשה שימוש ב־Prophet על מנת לחזות את מגמות התאונות לאורך ציר הזמן – לפי חודש בשנה – תוך התחשבות בעונתיות, טרנדים ארוכי טווח וחגים.  \n",
    "המטרה היא לזהות תקופות בהן הסיכון לתאונות עולה, ובכך לאפשר **התערבות מונעת מדויקת** מצד הרשויות.\n",
    "\n",
    "המודל מותאם במיוחד לנתונים עם רכיבים עונתיים חזקים וחסינות לרעש, והוא מאפשר גם פרשנות נוחה של התוצאות דרך גרפים ברורים של מגמות ותחזיות.\n"
   ]
  },
  {
   "cell_type": "code",
   "execution_count": 49,
   "id": "0acb00b3-8008-4b9e-999a-8a01aeb5742e",
   "metadata": {},
   "outputs": [
    {
     "name": "stdout",
     "output_type": "stream",
     "text": [
      "    SHNAT_TEUNA  HODESH_TEUNA  SUG_TEUNA\n",
      "0          2018             1       3487\n",
      "1          2018             2       3447\n",
      "2          2018             3       4036\n",
      "3          2018             4       3341\n",
      "4          2018             5       3774\n",
      "..          ...           ...        ...\n",
      "67         2023             8       2923\n",
      "68         2023             9       2459\n",
      "69         2023            10       1673\n",
      "70         2023            11       2353\n",
      "71         2023            12       2464\n",
      "\n",
      "[72 rows x 3 columns]\n"
     ]
    }
   ],
   "source": [
    "import pandas as pd\n",
    "\n",
    "# מסננים את הנתונים לשנים 2018-2023 בלבד\n",
    "df = df[df['SHNAT_TEUNA'].between(2018, 2023)]\n",
    "\n",
    "# סכום התאונות לכל חודש ושנה\n",
    "df_monthly = df.groupby(['SHNAT_TEUNA', 'HODESH_TEUNA'])['SUG_TEUNA'].sum().reset_index()\n",
    "\n",
    "# נוודא שהנתונים ממויינים לפי שנה וחודש\n",
    "df_monthly = df_monthly.sort_values(by=['SHNAT_TEUNA', 'HODESH_TEUNA']).reset_index(drop=True)\n",
    "\n",
    "# הצגת התוצאה\n",
    "print(df_monthly.head(75))\n"
   ]
  },
  {
   "cell_type": "code",
   "execution_count": 20,
   "id": "22ee88bc-9efa-4c53-8a9d-9fee936617c7",
   "metadata": {},
   "outputs": [
    {
     "data": {
      "image/png": "[encoded data removed]",
      "text/plain": [
       "<Figure size 432x288 with 1 Axes>"
      ]
     },
     "metadata": {
      "needs_background": "light"
     },
     "output_type": "display_data"
    }
   ],
   "source": [
    "# יצירת אינדקס זמן\n",
    "df_monthly['date'] = pd.to_datetime(df_monthly['SHNAT_TEUNA'].astype(str) + '-' + df_monthly['HODESH_TEUNA'].astype(str).str.zfill(2), format='%Y-%m')\n",
    "\n",
    "# הגדרת סדרת הזמן (העמודה מספר תאונות לפי תאריך)\n",
    "df_monthly.set_index('date', inplace=True)\n",
    "series = df_monthly['SUG_TEUNA']\n",
    "\n",
    "# הצגת סדרת הזמן\n",
    "series.plot()\n",
    "plt.title('מספר תאונות דרכים לפי חודש')\n",
    "plt.xlabel('תאריך')\n",
    "plt.ylabel('מספר תאונות')\n",
    "plt.show()\n"
   ]
  },
  {
   "cell_type": "code",
   "execution_count": 21,
   "id": "8456cfb2-adcc-48ed-8217-a63129b7ff6e",
   "metadata": {},
   "outputs": [
    {
     "name": "stderr",
     "output_type": "stream",
     "text": [
      "17:07:55 - cmdstanpy - INFO - Chain [1] start processing\n",
      "17:07:56 - cmdstanpy - INFO - Chain [1] done processing\n"
     ]
    },
    {
     "data": {
      "image/png": "[encoded data removed]",
      "text/plain": [
       "<Figure size 720x432 with 1 Axes>"
      ]
     },
     "metadata": {},
     "output_type": "display_data"
    }
   ],
   "source": [
    "from prophet import Prophet\n",
    "import pandas as pd\n",
    "\n",
    "# הכנת הנתונים ל-Prophet\n",
    "df_prophet = df_monthly[['SUG_TEUNA']].reset_index()\n",
    "df_prophet.columns = ['ds', 'y']  # Prophet מצפה לעמודת 'ds' (תאריך) ו-'y' (ערך)\n",
    "\n",
    "# יצירת המודל\n",
    "model_prophet = Prophet()\n",
    "\n",
    "# התאמת המודל לנתונים\n",
    "model_prophet.fit(df_prophet)\n",
    "\n",
    "# יצירת תאריכים עתידיים (12 חודשים נוספים)\n",
    "last_date = df_prophet['ds'].max()  # תאריך אחרון מהנתונים\n",
    "future_dates = pd.date_range(last_date, periods=13, freq='M')[1:]  # יוצרים 12 חודשים לאחר התאריך האחרון\n",
    "future = pd.DataFrame(future_dates, columns=['ds'])  # מבנה מתאים עבור prophet\n",
    "\n",
    "# חיזוי ל-12 חודשים (2024)\n",
    "forecast = model_prophet.predict(future)\n",
    "\n",
    "# הצגת החיזוי\n",
    "model_prophet.plot(forecast)\n",
    "plt.title('חיזוי תאונות דרכים לשנת 2024 - Prophet')\n",
    "plt.show()\n"
   ]
  },
  {
   "cell_type": "code",
   "execution_count": null,
   "id": "df75a229-365b-4795-b76b-edcfa8d02c94",
   "metadata": {},
   "outputs": [
    {
     "name": "stdout",
     "output_type": "stream",
     "text": [
      "         Date  Predicted_Accidents\n",
      "0  2024-01-31          1814.705729\n",
      "1  2024-02-29          2646.177533\n",
      "2  2024-03-31          2549.302017\n",
      "3  2024-04-30          2655.834243\n",
      "4  2024-05-31          2432.129785\n",
      "5  2024-06-30          2676.863317\n",
      "6  2024-07-31          2456.548858\n",
      "7  2024-08-31          2572.781763\n",
      "8  2024-09-30          1945.459191\n",
      "9  2024-10-31          2365.126535\n",
      "10 2024-11-30          2233.572655\n",
      "11 2024-12-31          2228.511796\n",
      "         Date  Predicted_Accidents  Year  Month\n",
      "0  2024-01-31          1814.705729  2024      1\n",
      "1  2024-02-29          2646.177533  2024      2\n",
      "2  2024-03-31          2549.302017  2024      3\n",
      "3  2024-04-30          2655.834243  2024      4\n",
      "4  2024-05-31          2432.129785  2024      5\n",
      "5  2024-06-30          2676.863317  2024      6\n",
      "6  2024-07-31          2456.548858  2024      7\n",
      "7  2024-08-31          2572.781763  2024      8\n",
      "8  2024-09-30          1945.459191  2024      9\n",
      "9  2024-10-31          2365.126535  2024     10\n",
      "10 2024-11-30          2233.572655  2024     11\n",
      "11 2024-12-31          2228.511796  2024     12\n"
     ]
    }
   ],
   "source": [
    "# הצגת החיזויים עבור 2024 (רק את החודשים שהמודל חזה עבורם)\n",
    "forecast_2024 = forecast[['ds', 'yhat']].rename(columns={'ds': 'Date', 'yhat': 'Predicted_Accidents'})\n",
    "\n",
    "# הצגת התוצאות של החיזוי (ללא השוואה לערכים האמיתיים)\n",
    "print(forecast_2024)\n",
    "\n",
    "# אם תרצה לצאת למבנה DataFrame עם מידע נוסף (למשל, הערות/הסברים נוספים)\n",
    "forecast_2024['Year'] = forecast_2024['Date'].dt.year\n",
    "forecast_2024['Month'] = forecast_2024['Date'].dt.month\n",
    "\n",
    "print(forecast_2024)\n"
   ]
  }
 ],
 "metadata": {
  "kernelspec": {
   "display_name": "Python 3 (ipykernel)",
   "language": "python",
   "name": "python3"
  },
  "language_info": {
   "codemirror_mode": {
    "name": "ipython",
    "version": 3
   },
   "file_extension": ".py",
   "mimetype": "text/x-python",
   "name": "python",
   "nbconvert_exporter": "python",
   "pygments_lexer": "ipython3",
   "version": "3.9.12"
  }
 },
 "nbformat": 4,
 "nbformat_minor": 5
}
